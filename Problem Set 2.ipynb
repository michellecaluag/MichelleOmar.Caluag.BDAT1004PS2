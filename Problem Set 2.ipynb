{
 "cells": [
  {
   "cell_type": "markdown",
   "id": "0e4eea31",
   "metadata": {},
   "source": [
    "# Question 1\n",
    "#Consider the following Python module:\n",
    "#a = 0\n",
    "#def b():\n",
    "#global a\n",
    "#a = c(a)\n",
    "#def c(a):\n",
    "#return a + 2\n",
    "#After importing the module into the interpreter, you execute:\n",
    "#>>> b()\n",
    "#>>> b()\n",
    "#>>> b()\n",
    "#>>> a\n",
    "?\n",
    "#What value is displayed when the last expression (a) is evaluated? Explain your answer by indicating what happens in every executed statement."
   ]
  },
  {
   "cell_type": "code",
   "execution_count": 5,
   "id": "145f85eb",
   "metadata": {},
   "outputs": [
    {
     "name": "stdout",
     "output_type": "stream",
     "text": [
      "6\n"
     ]
    }
   ],
   "source": [
    "a = 0\n",
    "\n",
    "def b():\n",
    "    global a\n",
    "    a = c(a)\n",
    "\n",
    "def c(a):\n",
    "    return a + 2\n",
    "\n",
    "b()\n",
    "b()\n",
    "b()\n",
    "print(a)"
   ]
  },
  {
   "cell_type": "markdown",
   "id": "18591b4e",
   "metadata": {},
   "source": [
    "Question 1 (Answer): \n",
    "By adding the word 'global' keyword before 'a' inside the function b, all references to 'a' become global. Thus, whenever 'b' function is called, the global value of 'a' changes. 'a' is initially 0. When b function was called, since a = c(a) and c(a) is a + 2, the global value of 'a' was modified 2 (0+2). The second time b is called, 'a' was modified 4 (2+2). The third time b is called, a was modified to 6 (4+2).    "
   ]
  },
  {
   "cell_type": "markdown",
   "id": "2651841e",
   "metadata": {},
   "source": [
    "# Question 2\n",
    "Function fileLength(), given to you, takes the name of a file as input and returns\n",
    "the length of the file:\n",
    ">>> fileLength('midterm.py')\n",
    "284\n",
    ">>> fileLength('idterm.py')\n",
    "Traceback (most recent call last):\n",
    "File \"<pyshell#34>\", line 1, in <module>\n",
    "fileLength('idterm.py')\n",
    "File \"/Users/me/midterm.py\", line 3, in fileLength\n",
    "infile = open(filename)\n",
    "FileNotFoundError: [Errno 2] No such file or directory:\n",
    "'idterm.py'\n",
    "As shown above, if the file cannot be found by the interpreter or if it cannot be read\n",
    "as a text file, an exception will be raised. Modify function fileLength() so that a\n",
    "friendly message is printed instead:\n",
    ">>> fileLength('midterm.py')\n",
    "358\n",
    ">>> fileLength('idterm.py')\n",
    "File idterm.py not found."
   ]
  },
  {
   "cell_type": "code",
   "execution_count": null,
   "id": "42b3d65f",
   "metadata": {},
   "outputs": [],
   "source": [
    "def fileLength(file_name):\n",
    "    try:\n",
    "        infile = open(file_name)\n",
    "        content = infile.read()\n",
    "        print(len(content))\n",
    "        #print(str(file_name))\n",
    "        infile.close()\n",
    "    except IOError:\n",
    "        print(\"File \" +str(file_name)+\" is not found.\")"
   ]
  },
  {
   "cell_type": "markdown",
   "id": "796b138d",
   "metadata": {},
   "source": [
    "# Question 3\n",
    "Write a class named Marsupial that can be used as shown below:\n",
    ">>> m = Marsupial()\n",
    ">>> m.put_in_pouch('doll')\n",
    ">>> m.put_in_pouch('firetruck')\n",
    ">>> m.put_in_pouch('kitten')\n",
    ">>> m.pouch_contents()\n",
    "['doll', 'firetruck', 'kitten']"
   ]
  },
  {
   "cell_type": "code",
   "execution_count": null,
   "id": "815e3c01",
   "metadata": {},
   "outputs": [],
   "source": [
    "class Marsupial:\n",
    "    'represents marsupial'\n",
    "\n",
    "    def __init__(self):\n",
    "        'instantiates an empty list'\n",
    "        self.m = []\n",
    "\n",
    "    def put_in_pouch(self,item):\n",
    "        'inserts item at the end of the list'\n",
    "        return self.m.append(item)\n",
    "\n",
    "    def pouch_contents(self):\n",
    "        'prints contents of list'\n",
    "        print(self.m)\n",
    "\n",
    "m = Marsupial()\n",
    "m.put_in_pouch('doll')\n",
    "m.put_in_pouch('firetruck')\n",
    "m.put_in_pouch('kitten')\n",
    "m.pouch_contents()"
   ]
  },
  {
   "cell_type": "markdown",
   "id": "379395c1",
   "metadata": {},
   "source": [
    "# Question 3a,b,c"
   ]
  },
  {
   "cell_type": "code",
   "execution_count": 4,
   "id": "421e775e",
   "metadata": {},
   "outputs": [
    {
     "name": "stdout",
     "output_type": "stream",
     "text": [
      "I am a Kangaroo located at coordinates 0,0\n",
      "['doll', 'firetruck', 'kitten']\n",
      "I am a Kangaroo located at coordinates 3,0\n"
     ]
    }
   ],
   "source": [
    "class Kangaroo(Marsupial):\n",
    "    'a subclass of Marsupial that inherits all its attributes'\n",
    "\n",
    "    def __init__(self, xcoord=0, ycoord=0):\n",
    "        'initialize coordinates to (xcoord, ycoord)'\n",
    "        self.m = []\n",
    "        self.x = xcoord\n",
    "        self.y = ycoord\n",
    "\n",
    "    def setx(self, xcoord):\n",
    "        'set x coordinate of point to xcoord'\n",
    "        self.x = xcoord\n",
    "\n",
    "    def sety(self, ycoord):\n",
    "        'set y coordinate of point to ycoord'\n",
    "        self.y = ycoord\n",
    "\n",
    "    def get(self):\n",
    "        'return coordinates of the point as a tuple'\n",
    "        return (self.x, self.y)\n",
    "\n",
    "    def jump(self, dx, dy):\n",
    "        'change x and y coordinates by dx and dy'\n",
    "        self.x += dx\n",
    "        self.y += dy\n",
    "\n",
    "    def __str__(self):\n",
    "        return 'I am a Kangaroo located at coordinates {},{}'.format(self.x, self.y)\n",
    "\n",
    "k = Kangaroo(0,0)\n",
    "print(k)\n",
    "\n",
    "k.put_in_pouch('doll')\n",
    "k.put_in_pouch('firetruck')\n",
    "k.put_in_pouch('kitten')\n",
    "k.pouch_contents()\n",
    "k.jump(1,0)\n",
    "k.jump(1,0)\n",
    "k.jump(1,0)\n",
    "print(k)"
   ]
  },
  {
   "cell_type": "markdown",
   "id": "412f8d15",
   "metadata": {},
   "source": [
    "# Question 4\n",
    "\n",
    "Write function collatz() that takes a positive integer x as input and prints the\n",
    "Collatz sequence starting at x. A Collatz sequence is obtained by repeatedly applying\n",
    "this rule to the previous number x in the sequence:\n",
    "x = { 𝑥/2 𝑖𝑓 𝑥 𝑖𝑠 𝑒𝑣𝑒𝑛3𝑥\n",
    "+1 𝑖𝑓𝑥𝑖𝑠𝑜𝑑𝑑\n",
    "Your function should stop when the sequence gets to number 1. Your\n",
    "implementation must be recursive, without any loops."
   ]
  },
  {
   "cell_type": "code",
   "execution_count": 1,
   "id": "ce073ec1",
   "metadata": {},
   "outputs": [
    {
     "name": "stdout",
     "output_type": "stream",
     "text": [
      "1\n",
      "10\n",
      "5\n",
      "16\n",
      "8\n",
      "4\n",
      "2\n",
      "1\n"
     ]
    }
   ],
   "source": [
    "def collatz(n):\n",
    "    if n == 1:\n",
    "        print(int(n))\n",
    "    else:\n",
    "        print(int(n))\n",
    "        if n % 2 == 0:\n",
    "            collatz(n / 2)\n",
    "        else:\n",
    "            collatz(n * 3 + 1)\n",
    "\n",
    "collatz(1)\n",
    "collatz(10)"
   ]
  },
  {
   "cell_type": "markdown",
   "id": "4790b3f0",
   "metadata": {},
   "source": [
    "# Question 5\n",
    "Write a recursive method binary() that takes a non-negative\n",
    "integer n and prints the binary representation of integer n.\n",
    ">>> binary(0)\n",
    "0 >\n",
    ">> binary(1)\n",
    "1\n",
    ">>> binary(3)\n",
    "11\n",
    ">>> binary(9)\n",
    "1001"
   ]
  },
  {
   "cell_type": "code",
   "execution_count": 23,
   "id": "2979b4a4",
   "metadata": {},
   "outputs": [
    {
     "name": "stdout",
     "output_type": "stream",
     "text": [
      "1001"
     ]
    }
   ],
   "source": [
    "def binary(a):\n",
    "    if a >= 1:\n",
    "        b = a // 2\n",
    "        if b > 0:\n",
    "            binary(b)\n",
    "            print(a % 2, end='')\n",
    "        else:\n",
    "            print(1, end = '')\n",
    "    else:\n",
    "        print(0)\n",
    "binary(9)\n"
   ]
  },
  {
   "cell_type": "markdown",
   "id": "36500cc1",
   "metadata": {},
   "source": [
    "# Question 6\n",
    "Implement a class named HeadingParser that can be used to parse an HTML\n",
    "document, and retrieve and print all the headings in the document. You should\n",
    "implement your class as a subclass of HTMLParser, defined in Standard Library\n",
    "module html.parser. When fed a string containing HTML code, your class should\n",
    "print the headings, one per line and in the order in which they appear in the\n",
    "document. Each heading should be indented as follows: an h1 heading should have\n",
    "indentation 0, and h2 heading should have indentation 1, etc. Test your\n",
    "implementation using w3c.html."
   ]
  },
  {
   "cell_type": "code",
   "execution_count": 27,
   "id": "5031d307",
   "metadata": {},
   "outputs": [
    {
     "name": "stdout",
     "output_type": "stream",
     "text": [
      "W3C Mission\n",
      "\n",
      "\t\n",
      "\tPrinciples\n",
      "\t\n",
      " \n",
      "\n",
      "\n",
      "\n",
      "\t\n",
      "\n"
     ]
    }
   ],
   "source": [
    "from html.parser import HTMLParser\n",
    "class HeadingParser(HTMLParser): \n",
    "\n",
    "    def handle_data(self, data):                                      \n",
    "        headingList = [\"<h1>\", \"<h2>\", \"<h3>\", \"<h4>\", \"<h5>\", \"<h6>\"]\n",
    "        startTag = self.get_starttag_text()  # get start tag          \n",
    "        if startTag in headingList:                                   \n",
    "            startTagIndent = int(startTag[2])-1  #add indentation based on type of header(h1 = 0 indentation, h2 = 1 indentation, etc.)                                                           \n",
    "            print('\\t'*startTagIndent+\"{}\".format(data))\n",
    "\n",
    "infile = open(\"C:\\\\Users\\\\Michelle Caluag\\\\Desktop\\\\w3c.html\")\n",
    "content = infile.read()\n",
    "infile.close()\n",
    "linkparser = HeadingParser()\n",
    "linkparser.feed(content)"
   ]
  },
  {
   "cell_type": "markdown",
   "id": "7d18bd5f",
   "metadata": {},
   "source": [
    "# Question 7\n",
    "\n",
    "Implement recursive function webdir() that takes as input: a URL (as a string) and\n",
    "non-negative integers depth and indent. Your function should visit every web\n",
    "page reachable from the starting URL web page in depth clicks or less, and print\n",
    "each web page's URL. As shown below, indentation, specified by indent, should\n",
    "be used to indicate the depth of a URL."
   ]
  },
  {
   "cell_type": "code",
   "execution_count": 28,
   "id": "33316053",
   "metadata": {},
   "outputs": [],
   "source": [
    "import requests \n",
    "from bs4 import BeautifulSoup\n",
    "\n",
    "def webdir(url,depth,indent):  \n",
    "    # print URL\n",
    "    indentString = ''\n",
    "    ind = indent\n",
    "    while (ind > 0):\n",
    "        indentString += '\\t'\n",
    "        ind -= 1\n",
    "    print(indentString+url)\n",
    "    \n",
    "    # further list URLs if target depth is not yet reached\n",
    "    if depth > 0:\n",
    "        req_url = requests.get(url)\n",
    "        # BeautifulSoup converts response from requests.get(url) to an object that can be processed\n",
    "        soup = BeautifulSoup(req_url.text, 'html.parser')\n",
    "        urls = []\n",
    "        \n",
    "        for link in soup.find_all('a'): #get all hyperlink URLs \n",
    "            if link is not None and link.get('href') is not None:\n",
    "                if 'https' in link.get('href') or 'http' in link.get('href'):\n",
    "                    urls.append(link.get('href'))\n",
    "        \n",
    "        for eUrl in urls:\n",
    "            webdir(eUrl, depth-1, indent+1)\n",
    "\n",
    "webdir(url,2,0)"
   ]
  },
  {
   "cell_type": "markdown",
   "id": "472c02ed",
   "metadata": {},
   "source": [
    "# Question 8\n",
    "Write SQL queries on the below database table that return:\n",
    "a) All the temperature data.\n",
    "b) All the cities, but without repetition.\n",
    "c) All the records for India.\n",
    "d) All the Fall records.\n",
    "e) The city, country, and season for which the average rainfall is between 200\n",
    "and 400 millimeters.\n",
    "f) The city and country for which the average Fall temperature is above 20\n",
    "degrees, in increasing temperature order.\n",
    "g) The total annual rainfall for Cairo.\n",
    "h) The total rainfall for each season."
   ]
  },
  {
   "cell_type": "markdown",
   "id": "90c5d386",
   "metadata": {},
   "source": [
    "Assumption: database table name is City_temp\n",
    "\n",
    "a.) All the temperature data.\n",
    "\n",
    "Answer: \n",
    "\n",
    "Select [Temperature(C)]\n",
    "From City_temp\n",
    "\n",
    "b.) All the cities, but without repetition.\n",
    "\n",
    "Answer:\n",
    "\n",
    "Select distinct City\n",
    "From City_temp\n",
    "\n",
    "c.) All the records for India.\n",
    "\n",
    "Answer:\n",
    "\n",
    "Select *\n",
    "From City_temp\n",
    "where Country = 'India'\n",
    "\n",
    "d.) All the Fall records.\n",
    "\n",
    "Answer:\n",
    "\n",
    "Select *\n",
    "From City_temp\n",
    "where Season = 'Fall'\n",
    "\n",
    "e) The city, country, and season for which the average rainfall is between 200\n",
    "and 400 millimeters.\n",
    "\n",
    "Answer:\n",
    "\n",
    "Select City, Country, Season, [Rainfall(mm)]\n",
    "From City_temp\n",
    "where [Rainfall(mm)] between 200 and 400\n",
    "\n",
    "f) The city and country for which the average Fall temperature is above 20\n",
    "degrees, in increasing temperature order.\n",
    "\n",
    "Answer: \n",
    "\n",
    "Select City, Country, [Temperature(C)]\n",
    "From City_temp\n",
    "where [Temperature(C)] > 20\n",
    "order by [Temperature(C)] asc\n",
    "\n",
    "g) The total annual rainfall for Cairo.\n",
    "\n",
    "Answer:\n",
    "\n",
    "Select sum([Rainfall(mm)]) as Total_Rainfall_For_Cairo\n",
    "From City_temp\n",
    "where City = 'Cairo'\n",
    "\n",
    "h) The total rainfall for each season.\n",
    "\n",
    "Answer:\n",
    "\n",
    "Select Season, sum([Rainfall(mm)]) as Total_Rainfall\n",
    "From City_temp\n",
    "Group by Season"
   ]
  },
  {
   "cell_type": "markdown",
   "id": "8980ad06",
   "metadata": {},
   "source": [
    "# Question 9\n",
    ". Suppose list words is defined as follows:\n",
    ">>> words = ['The', 'quick', 'brown', 'fox', 'jumps', 'over',\n",
    "'the', 'lazy', 'dog']\n",
    "Write list comprehension expressions that use list words and generate the following\n",
    "lists:\n",
    "a) ['THE', 'QUICK', 'BROWN', 'FOX', 'JUMPS', 'OVER', 'THE',\n",
    "'LAZY', 'DOG']\n",
    "b) ['the', 'quick', 'brown', 'fox', 'jumps', 'over', 'the',\n",
    "'lazy', 'dog']\n",
    "c) [3, 5, 5, 3, 5, 4, 3, 4, 3] (the list of lengths of words in list\n",
    "words).\n",
    "d) [['THE', 'the', 3], ['QUICK', 'quick', 5], ['BROWN',\n",
    "'brown', 5], ['FOX', 'fox', 3], ['JUMPS', 'jumps', 5],\n",
    "['OVER', 'over', 4], ['THE', 'the', 3], ['LAZY', 'lazy',\n",
    "4], ['DOG', 'dog', 3]] (the list containing a list for every word of list\n",
    "words, where each list contains the word in uppercase and lowercase and the\n",
    "length of the word.)\n",
    "e) ['The', 'quick', 'brown', 'fox', 'jumps', 'over', 'the',\n",
    "'lazy', 'dog'] (the list of words in list words containing 4 or more\n",
    "characters.)"
   ]
  },
  {
   "cell_type": "code",
   "execution_count": 10,
   "id": "c9bbf468",
   "metadata": {},
   "outputs": [
    {
     "name": "stdout",
     "output_type": "stream",
     "text": [
      "['THE', 'QUICK', 'BROWN', 'FOX', 'JUMPS', 'OVER', 'THE', 'LAZY', 'DOG']\n"
     ]
    }
   ],
   "source": [
    "#Question 9.a\n",
    "arr = [\"The\",\"quick\",\"brown\",\"fox\",\"jumps\",\"over\",\"the\",\"lazy\",\"dog\"]\n",
    "\n",
    "\n",
    "def listComprehension(arr):\n",
    "    a = [] \n",
    "    for word in arr:        \n",
    "        a.append(word.upper())\n",
    "    print(a)\n",
    "\n",
    "\n",
    "listComprehension(arr)"
   ]
  },
  {
   "cell_type": "code",
   "execution_count": 11,
   "id": "fa71cc82",
   "metadata": {},
   "outputs": [
    {
     "name": "stdout",
     "output_type": "stream",
     "text": [
      "['the', 'quick', 'brown', 'fox', 'jumps', 'over', 'the', 'lazy', 'dog']\n"
     ]
    }
   ],
   "source": [
    "#Question 9.b\n",
    "arr = [\"The\",\"quick\",\"brown\",\"fox\",\"jumps\",\"over\",\"the\",\"lazy\",\"dog\"]\n",
    "\n",
    "\n",
    "def listComprehension(arr):\n",
    "    a = [] \n",
    "    for word in arr:        \n",
    "        a.append(word.lower())\n",
    "    print(a)\n",
    "\n",
    "\n",
    "listComprehension(arr)"
   ]
  },
  {
   "cell_type": "code",
   "execution_count": 13,
   "id": "86736c37",
   "metadata": {},
   "outputs": [
    {
     "name": "stdout",
     "output_type": "stream",
     "text": [
      "[3, 5, 5, 3, 5, 4, 3, 4, 3]\n"
     ]
    }
   ],
   "source": [
    "#Question 9.c\n",
    "arr = [\"The\",\"quick\",\"brown\",\"fox\",\"jumps\",\"over\",\"the\",\"lazy\",\"dog\"]\n",
    "\n",
    "\n",
    "def listComprehension(arr):\n",
    "    a = [] \n",
    "    for word in arr:        \n",
    "        a.append(len(word))\n",
    "    print(a)\n",
    "\n",
    "\n",
    "listComprehension(arr)"
   ]
  },
  {
   "cell_type": "code",
   "execution_count": 16,
   "id": "1ca3046e",
   "metadata": {},
   "outputs": [
    {
     "name": "stdout",
     "output_type": "stream",
     "text": [
      "[['THE', 'the', 3], ['QUICK', 'quick', 5], ['BROWN', 'brown', 5], ['FOX', 'fox', 3], ['JUMPS', 'jumps', 5], ['OVER', 'over', 4], ['THE', 'the', 3], ['LAZY', 'lazy', 4], ['DOG', 'dog', 3]]\n"
     ]
    }
   ],
   "source": [
    "#Question 9.d\n",
    "arr = [\"The\",\"quick\",\"brown\",\"fox\",\"jumps\",\"over\",\"the\",\"lazy\",\"dog\"]\n",
    "\n",
    "\n",
    "def listComprehension(arr):\n",
    "    a = [] \n",
    "    for word in arr:        \n",
    "        upper = word.upper()\n",
    "        lower = word.lower()\n",
    "        length = len(word)\n",
    "        upperLowerLengthList = [upper,lower,length]\n",
    "        a.append(upperLowerLengthList)\n",
    "    print(a)\n",
    "\n",
    "\n",
    "listComprehension(arr)"
   ]
  },
  {
   "cell_type": "code",
   "execution_count": 23,
   "id": "7310765e",
   "metadata": {},
   "outputs": [
    {
     "name": "stdout",
     "output_type": "stream",
     "text": [
      "['quick', 'brown', 'jumps', 'over', 'lazy']\n"
     ]
    }
   ],
   "source": [
    "#Question 9.e\n",
    "arr = [\"The\",\"quick\",\"brown\",\"fox\",\"jumps\",\"over\",\"the\",\"lazy\",\"dog\"]\n",
    "\n",
    "\n",
    "def listComprehension(arr):\n",
    "    a = [] \n",
    "    for word in arr:        \n",
    "        if len(word) >= 4:\n",
    "            a.append(word)\n",
    "    print(a)\n",
    "\n",
    "\n",
    "listComprehension(arr)"
   ]
  }
 ],
 "metadata": {
  "kernelspec": {
   "display_name": "Python 3 (ipykernel)",
   "language": "python",
   "name": "python3"
  },
  "language_info": {
   "codemirror_mode": {
    "name": "ipython",
    "version": 3
   },
   "file_extension": ".py",
   "mimetype": "text/x-python",
   "name": "python",
   "nbconvert_exporter": "python",
   "pygments_lexer": "ipython3",
   "version": "3.9.12"
  }
 },
 "nbformat": 4,
 "nbformat_minor": 5
}
